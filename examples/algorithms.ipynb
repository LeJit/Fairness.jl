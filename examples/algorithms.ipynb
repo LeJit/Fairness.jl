{
 "cells": [
  {
   "cell_type": "code",
   "execution_count": 1,
   "metadata": {
    "ExecuteTime": {
     "end_time": "2020-07-22T17:22:51.401000+05:30",
     "start_time": "2020-07-22T11:52:07.172Z"
    }
   },
   "outputs": [
    {
     "name": "stderr",
     "output_type": "stream",
     "text": [
      "\u001b[32m\u001b[1m Activating\u001b[22m\u001b[39m environment at `~/Desktop/Fairness/Project.toml`\n"
     ]
    }
   ],
   "source": [
    "using Pkg\n",
    "Pkg.activate(\".\")\n",
    "\n",
    "using Fairness\n",
    "using MLJBase, MLJModels # Alternatively you can do \"using MLJ\" if MLJ if you have installed it"
   ]
  },
  {
   "cell_type": "markdown",
   "metadata": {},
   "source": [
    "### Loading toy data"
   ]
  },
  {
   "cell_type": "code",
   "execution_count": 2,
   "metadata": {
    "ExecuteTime": {
     "end_time": "2020-07-22T17:23:06.089000+05:30",
     "start_time": "2020-07-22T11:52:07.185Z"
    }
   },
   "outputs": [],
   "source": [
    "X, y, ŷ = @load_toydata;"
   ]
  },
  {
   "cell_type": "code",
   "execution_count": 3,
   "metadata": {
    "ExecuteTime": {
     "end_time": "2020-07-22T17:23:09.715000+05:30",
     "start_time": "2020-07-22T11:52:07.188Z"
    }
   },
   "outputs": [
    {
     "data": {
      "text/html": [
       "<table class=\"data-frame\"><thead><tr><th></th><th>Sex</th><th>Ethnicity</th><th>Highest degree</th><th>Job type</th></tr><tr><th></th><th>Cat…</th><th>Cat…</th><th>Cat…</th><th>Cat…</th></tr></thead><tbody><p>10 rows × 4 columns</p><tr><th>1</th><td>M</td><td>Native</td><td>H. school</td><td>Board</td></tr><tr><th>2</th><td>M</td><td>Native</td><td>Univ.</td><td>Board</td></tr><tr><th>3</th><td>M</td><td>Native</td><td>H. school</td><td>Board</td></tr><tr><th>4</th><td>M</td><td>Non-nat.</td><td>H. school</td><td>Healthcare</td></tr><tr><th>5</th><td>M</td><td>Non-nat.</td><td>Univ.</td><td>Healthcare</td></tr><tr><th>6</th><td>F</td><td>Non-nat.</td><td>Univ.</td><td>Education</td></tr><tr><th>7</th><td>F</td><td>Native</td><td>H. school</td><td>Education</td></tr><tr><th>8</th><td>F</td><td>Native</td><td>None</td><td>Healthcare</td></tr><tr><th>9</th><td>F</td><td>Non-nat.</td><td>Univ.</td><td>Education</td></tr><tr><th>10</th><td>F</td><td>Native</td><td>H. school</td><td>Board</td></tr></tbody></table>"
      ],
      "text/latex": [
       "\\begin{tabular}{r|cccc}\n",
       "\t& Sex & Ethnicity & Highest degree & Job type\\\\\n",
       "\t\\hline\n",
       "\t& Cat… & Cat… & Cat… & Cat…\\\\\n",
       "\t\\hline\n",
       "\t1 & M & Native & H. school & Board \\\\\n",
       "\t2 & M & Native & Univ. & Board \\\\\n",
       "\t3 & M & Native & H. school & Board \\\\\n",
       "\t4 & M & Non-nat. & H. school & Healthcare \\\\\n",
       "\t5 & M & Non-nat. & Univ. & Healthcare \\\\\n",
       "\t6 & F & Non-nat. & Univ. & Education \\\\\n",
       "\t7 & F & Native & H. school & Education \\\\\n",
       "\t8 & F & Native & None & Healthcare \\\\\n",
       "\t9 & F & Non-nat. & Univ. & Education \\\\\n",
       "\t10 & F & Native & H. school & Board \\\\\n",
       "\\end{tabular}\n"
      ],
      "text/plain": [
       "10×4 DataFrame\n",
       "│ Row │ Sex  │ Ethnicity │ Highest degree │ Job type   │\n",
       "│     │ \u001b[90mCat…\u001b[39m │ \u001b[90mCat…\u001b[39m      │ \u001b[90mCategorical…\u001b[39m   │ \u001b[90mCat…\u001b[39m       │\n",
       "├─────┼──────┼───────────┼────────────────┼────────────┤\n",
       "│ 1   │ M    │ Native    │ H. school      │ Board      │\n",
       "│ 2   │ M    │ Native    │ Univ.          │ Board      │\n",
       "│ 3   │ M    │ Native    │ H. school      │ Board      │\n",
       "│ 4   │ M    │ Non-nat.  │ H. school      │ Healthcare │\n",
       "│ 5   │ M    │ Non-nat.  │ Univ.          │ Healthcare │\n",
       "│ 6   │ F    │ Non-nat.  │ Univ.          │ Education  │\n",
       "│ 7   │ F    │ Native    │ H. school      │ Education  │\n",
       "│ 8   │ F    │ Native    │ None           │ Healthcare │\n",
       "│ 9   │ F    │ Non-nat.  │ Univ.          │ Education  │\n",
       "│ 10  │ F    │ Native    │ H. school      │ Board      │"
      ]
     },
     "execution_count": 3,
     "metadata": {},
     "output_type": "execute_result"
    }
   ],
   "source": [
    "X"
   ]
  },
  {
   "cell_type": "code",
   "execution_count": 4,
   "metadata": {
    "ExecuteTime": {
     "end_time": "2020-07-22T17:23:10.621000+05:30",
     "start_time": "2020-07-22T11:52:07.190Z"
    }
   },
   "outputs": [
    {
     "data": {
      "text/plain": [
       "(CategoricalArrays.CategoricalValue{Int64,UInt32}[1, 1, 1, 1, 0, 0, 0, 1, 0, 1], CategoricalArrays.CategoricalValue{Int64,UInt32}[1, 0, 1, 0, 1, 0, 1, 0, 1, 0])"
      ]
     },
     "execution_count": 4,
     "metadata": {},
     "output_type": "execute_result"
    }
   ],
   "source": [
    "y, ŷ"
   ]
  },
  {
   "cell_type": "markdown",
   "metadata": {},
   "source": [
    "# Loading the Classifier and Wrapping it\n",
    "\n",
    "## ReweighingSampling Algorithm"
   ]
  },
  {
   "cell_type": "code",
   "execution_count": 5,
   "metadata": {
    "ExecuteTime": {
     "end_time": "2020-07-22T17:23:12.761000+05:30",
     "start_time": "2020-07-22T11:52:07.200Z"
    }
   },
   "outputs": [
    {
     "data": {
      "text/plain": [
       "ReweighingSamplingWrapper(\n",
       "    grp = :Sex,\n",
       "    classifier = ConstantClassifier(),\n",
       "    factor = 1.0,\n",
       "    rng = Random._GLOBAL_RNG())\u001b[34m @268\u001b[39m"
      ]
     },
     "execution_count": 5,
     "metadata": {},
     "output_type": "execute_result"
    }
   ],
   "source": [
    "model = ConstantClassifier()\n",
    "\n",
    "wrappedModel = ReweighingSamplingWrapper(classifier=model, grp=:Sex)"
   ]
  },
  {
   "cell_type": "markdown",
   "metadata": {},
   "source": [
    "### Using MLJ for packaging data with the Machine Learning model (Wrapped by fairness algorithm)"
   ]
  },
  {
   "cell_type": "code",
   "execution_count": 6,
   "metadata": {
    "ExecuteTime": {
     "end_time": "2020-07-22T17:23:16.949000+05:30",
     "start_time": "2020-07-22T11:52:07.209Z"
    }
   },
   "outputs": [
    {
     "data": {
      "text/plain": [
       "\u001b[34mMachine{ReweighingSamplingWrapper{ConstantClassifier}} @447\u001b[39m trained 0 times.\n",
       "  args: \n",
       "    1:\t\u001b[34mSource @010\u001b[39m ⏎ `Table{Union{AbstractArray{Multiclass{2},1}, AbstractArray{Multiclass{3},1}}}`\n",
       "    2:\t\u001b[34mSource @029\u001b[39m ⏎ `AbstractArray{Multiclass{2},1}`\n"
      ]
     },
     "execution_count": 6,
     "metadata": {},
     "output_type": "execute_result"
    }
   ],
   "source": [
    "mach = machine(wrappedModel, X, y)"
   ]
  },
  {
   "cell_type": "markdown",
   "metadata": {},
   "source": [
    "### Fitting the Wrapped Model on the packaged data.\n",
    "\n",
    "Everything will be handled underneath the hood. The reweighing algorithm will be fitted first to generate weights for all comninations of classes and outcomes. Then these weights are used to sample the training data and then classifier is trained....**And all this is done automatically by Fairness.jl. You simply have to choose the wrapper of your choice!!**"
   ]
  },
  {
   "cell_type": "code",
   "execution_count": 7,
   "metadata": {
    "ExecuteTime": {
     "end_time": "2020-07-22T17:23:27.405000+05:30",
     "start_time": "2020-07-22T11:52:07.218Z"
    }
   },
   "outputs": [
    {
     "name": "stderr",
     "output_type": "stream",
     "text": [
      "┌ Info: Training \u001b[34mMachine{ReweighingSamplingWrapper{ConstantClassifier}} @447\u001b[39m.\n",
      "└ @ MLJBase /home/ashryaagr/.julia/packages/MLJBase/CcEkh/src/machines.jl:317\n",
      "┌ Info: Training \u001b[34mMachine{ConstantClassifier} @170\u001b[39m.\n",
      "└ @ MLJBase /home/ashryaagr/.julia/packages/MLJBase/CcEkh/src/machines.jl:317\n"
     ]
    },
    {
     "data": {
      "text/plain": [
       "\u001b[34mMachine{ReweighingSamplingWrapper{ConstantClassifier}} @447\u001b[39m trained 1 time.\n",
       "  args: \n",
       "    1:\t\u001b[34mSource @010\u001b[39m ⏎ `Table{Union{AbstractArray{Multiclass{2},1}, AbstractArray{Multiclass{3},1}}}`\n",
       "    2:\t\u001b[34mSource @029\u001b[39m ⏎ `AbstractArray{Multiclass{2},1}`\n"
      ]
     },
     "execution_count": 7,
     "metadata": {},
     "output_type": "execute_result"
    }
   ],
   "source": [
    "fit!(mach)"
   ]
  },
  {
   "cell_type": "markdown",
   "metadata": {},
   "source": [
    "Prediction is also handled underneath the hood for all sorts of algorithms.\n",
    "\n",
    "Fairness.jl leverages MLJ to make it really easy to do fitting and prediction.\n",
    "Internals: MLJ creates a node for the end classifier and automatically calls predict on that node. So I didn't have to eplicitly code a predict function"
   ]
  },
  {
   "cell_type": "code",
   "execution_count": 8,
   "metadata": {
    "ExecuteTime": {
     "end_time": "2020-07-22T17:23:33.667000+05:30",
     "start_time": "2020-07-22T11:52:07.225Z"
    }
   },
   "outputs": [
    {
     "data": {
      "text/plain": [
       "5-element UnivariateFiniteArray{Multiclass{2},Int64,UInt32,Float64,1}:\n",
       " UnivariateFinite{Multiclass{2}}(0=>0.5, 1=>0.5)\n",
       " UnivariateFinite{Multiclass{2}}(0=>0.5, 1=>0.5)\n",
       " UnivariateFinite{Multiclass{2}}(0=>0.5, 1=>0.5)\n",
       " UnivariateFinite{Multiclass{2}}(0=>0.5, 1=>0.5)\n",
       " UnivariateFinite{Multiclass{2}}(0=>0.5, 1=>0.5)"
      ]
     },
     "execution_count": 8,
     "metadata": {},
     "output_type": "execute_result"
    }
   ],
   "source": [
    "predict(mach, X[1:5, :])"
   ]
  },
  {
   "cell_type": "markdown",
   "metadata": {},
   "source": [
    "## Equalized Odds Postprocessing Algorithm\n",
    "\n",
    "Again, you have to simply load the classifier model and wrap it with fairness algorithm of your choice!"
   ]
  },
  {
   "cell_type": "code",
   "execution_count": 9,
   "metadata": {
    "ExecuteTime": {
     "end_time": "2020-07-22T17:23:34.167000+05:30",
     "start_time": "2020-07-22T11:52:07.233Z"
    }
   },
   "outputs": [
    {
     "data": {
      "text/plain": [
       "EqOddsWrapper(\n",
       "    grp = :Sex,\n",
       "    classifier = ConstantClassifier())\u001b[34m @366\u001b[39m"
      ]
     },
     "execution_count": 9,
     "metadata": {},
     "output_type": "execute_result"
    }
   ],
   "source": [
    "model2 = ConstantClassifier()\n",
    "\n",
    "wrappedModel2 = EqOddsWrapper(classifier=model2, grp=:Sex)"
   ]
  },
  {
   "cell_type": "markdown",
   "metadata": {},
   "source": [
    "### Package data with wrapped model  and then fit the model on that data"
   ]
  },
  {
   "cell_type": "code",
   "execution_count": 10,
   "metadata": {
    "ExecuteTime": {
     "end_time": "2020-07-22T17:24:02.840000+05:30",
     "start_time": "2020-07-22T11:52:07.241Z"
    }
   },
   "outputs": [
    {
     "name": "stderr",
     "output_type": "stream",
     "text": [
      "┌ Info: Training \u001b[34mMachine{EqOddsWrapper{ConstantClassifier}} @115\u001b[39m.\n",
      "└ @ MLJBase /home/ashryaagr/.julia/packages/MLJBase/CcEkh/src/machines.jl:317\n",
      "┌ Info: Training \u001b[34mMachine{ConstantClassifier} @687\u001b[39m.\n",
      "└ @ MLJBase /home/ashryaagr/.julia/packages/MLJBase/CcEkh/src/machines.jl:317\n"
     ]
    },
    {
     "data": {
      "text/plain": [
       "\u001b[34mMachine{EqOddsWrapper{ConstantClassifier}} @115\u001b[39m trained 1 time.\n",
       "  args: \n",
       "    1:\t\u001b[34mSource @698\u001b[39m ⏎ `Table{Union{AbstractArray{Multiclass{2},1}, AbstractArray{Multiclass{3},1}}}`\n",
       "    2:\t\u001b[34mSource @200\u001b[39m ⏎ `AbstractArray{Multiclass{2},1}`\n"
      ]
     },
     "execution_count": 10,
     "metadata": {},
     "output_type": "execute_result"
    }
   ],
   "source": [
    "mach2 = machine(wrappedModel2, X, y)\n",
    "\n",
    "fit!(mach2)"
   ]
  },
  {
   "cell_type": "markdown",
   "metadata": {},
   "source": [
    "### You can also see the training results i.e. the fitted params\n",
    "\n",
    "What you shall see as output below is the fitting result for:\n",
    "- Equalized Odds : It is in form of **[sp2n, sn2p, op2n, on2p]**. s denotes priviledged group and p2n denoted conversion from Positive to Negative\n",
    "- Constant Classifier"
   ]
  },
  {
   "cell_type": "code",
   "execution_count": 11,
   "metadata": {
    "ExecuteTime": {
     "end_time": "2020-07-22T17:24:05.054000+05:30",
     "start_time": "2020-07-22T11:52:07.249Z"
    }
   },
   "outputs": [
    {
     "data": {
      "text/plain": [
       "3-element Array{Any,1}:\n",
       " [[0.0, 0.0], [1.0, 1.0]]\n",
       " (CategoricalArrays.CategoricalValue{Int64,UInt32}[0, 1], [0.4 0.6])\n",
       " [0, 1]"
      ]
     },
     "execution_count": 11,
     "metadata": {},
     "output_type": "execute_result"
    }
   ],
   "source": [
    "mach2.fitresult"
   ]
  },
  {
   "cell_type": "markdown",
   "metadata": {},
   "source": [
    "### Predict"
   ]
  },
  {
   "cell_type": "code",
   "execution_count": 12,
   "metadata": {
    "ExecuteTime": {
     "end_time": "2020-07-22T17:24:07.175000+05:30",
     "start_time": "2020-07-22T11:52:07.258Z"
    }
   },
   "outputs": [
    {
     "data": {
      "text/plain": [
       "6-element CategoricalArrays.CategoricalArray{Int64,1,UInt32}:\n",
       " 1\n",
       " 1\n",
       " 1\n",
       " 1\n",
       " 1\n",
       " 1"
      ]
     },
     "execution_count": 12,
     "metadata": {},
     "output_type": "execute_result"
    }
   ],
   "source": [
    "predict(mach2, X[5:10, :])"
   ]
  }
 ],
 "metadata": {
  "kernelspec": {
   "display_name": "Julia 1.4.1",
   "language": "julia",
   "name": "julia-1.4"
  },
  "language_info": {
   "file_extension": ".jl",
   "mimetype": "application/julia",
   "name": "julia",
   "version": "1.4.1"
  },
  "varInspector": {
   "cols": {
    "lenName": 16,
    "lenType": 16,
    "lenVar": 40
   },
   "kernels_config": {
    "python": {
     "delete_cmd_postfix": "",
     "delete_cmd_prefix": "del ",
     "library": "var_list.py",
     "varRefreshCmd": "print(var_dic_list())"
    },
    "r": {
     "delete_cmd_postfix": ") ",
     "delete_cmd_prefix": "rm(",
     "library": "var_list.r",
     "varRefreshCmd": "cat(var_dic_list()) "
    }
   },
   "types_to_exclude": [
    "module",
    "function",
    "builtin_function_or_method",
    "instance",
    "_Feature"
   ],
   "window_display": false
  }
 },
 "nbformat": 4,
 "nbformat_minor": 4
}
